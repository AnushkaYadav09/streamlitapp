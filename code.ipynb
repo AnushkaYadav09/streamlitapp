{
 "cells": [
  {
   "cell_type": "code",
   "execution_count": 9,
   "id": "47df6b39",
   "metadata": {},
   "outputs": [],
   "source": [
    "\n",
    "# 1. Data Loading and Exploration\n",
    "# ● Load the dataset (CSV format)\n",
    "# ● Explore the number of rows, column types, and any missing values\n",
    "# ● Understand the balance of the target variable (Churn)\n",
    "import pandas as pd\n",
    "import numpy as np\n",
    "import matplotlib.pyplot as plt\n",
    "import seaborn as sns\n",
    "import streamlit as st\n",
    "import joblib\n",
    "from sklearn.model_selection import train_test_split\n",
    "from sklearn.linear_model import LinearRegression\n",
    "from sklearn.linear_model import LogisticRegression\n",
    "from sklearn.metrics import mean_absolute_error, mean_squared_error, r2_score\n",
    "from sklearn.preprocessing import LabelEncoder, StandardScaler"
   ]
  },
  {
   "cell_type": "code",
   "execution_count": 10,
   "id": "30bd2e9a",
   "metadata": {},
   "outputs": [
    {
     "name": "stdout",
     "output_type": "stream",
     "text": [
      "Shape of dataset: (7043, 21)\n",
      "<class 'pandas.core.frame.DataFrame'>\n",
      "RangeIndex: 7043 entries, 0 to 7042\n",
      "Data columns (total 21 columns):\n",
      " #   Column            Non-Null Count  Dtype  \n",
      "---  ------            --------------  -----  \n",
      " 0   customerID        7043 non-null   object \n",
      " 1   gender            7043 non-null   object \n",
      " 2   SeniorCitizen     7043 non-null   int64  \n",
      " 3   Partner           7043 non-null   object \n",
      " 4   Dependents        7043 non-null   object \n",
      " 5   tenure            7043 non-null   int64  \n",
      " 6   PhoneService      7043 non-null   object \n",
      " 7   MultipleLines     7043 non-null   object \n",
      " 8   InternetService   7043 non-null   object \n",
      " 9   OnlineSecurity    7043 non-null   object \n",
      " 10  OnlineBackup      7043 non-null   object \n",
      " 11  DeviceProtection  7043 non-null   object \n",
      " 12  TechSupport       7043 non-null   object \n",
      " 13  StreamingTV       7043 non-null   object \n",
      " 14  StreamingMovies   7043 non-null   object \n",
      " 15  Contract          7043 non-null   object \n",
      " 16  PaperlessBilling  7043 non-null   object \n",
      " 17  PaymentMethod     7043 non-null   object \n",
      " 18  MonthlyCharges    7043 non-null   float64\n",
      " 19  TotalCharges      7043 non-null   object \n",
      " 20  Churn             7043 non-null   object \n",
      "dtypes: float64(1), int64(2), object(18)\n",
      "memory usage: 1.1+ MB\n",
      "None\n",
      "\n",
      "Missing Values:\n",
      "customerID          0\n",
      "gender              0\n",
      "SeniorCitizen       0\n",
      "Partner             0\n",
      "Dependents          0\n",
      "tenure              0\n",
      "PhoneService        0\n",
      "MultipleLines       0\n",
      "InternetService     0\n",
      "OnlineSecurity      0\n",
      "OnlineBackup        0\n",
      "DeviceProtection    0\n",
      "TechSupport         0\n",
      "StreamingTV         0\n",
      "StreamingMovies     0\n",
      "Contract            0\n",
      "PaperlessBilling    0\n",
      "PaymentMethod       0\n",
      "MonthlyCharges      0\n",
      "TotalCharges        0\n",
      "Churn               0\n",
      "dtype: int64\n"
     ]
    }
   ],
   "source": [
    "customer=pd.read_csv('customerChurn.csv')\n",
    "print(\"Shape of dataset:\", customer.shape)\n",
    "customer.head()\n",
    "print(customer.info())\n",
    "print(\"\\nMissing Values:\")\n",
    "print(customer.isnull().sum())"
   ]
  },
  {
   "cell_type": "code",
   "execution_count": 11,
   "id": "2797a639",
   "metadata": {},
   "outputs": [
    {
     "name": "stdout",
     "output_type": "stream",
     "text": [
      "\n",
      "Churn Value Counts:\n",
      "Churn\n",
      "No     5174\n",
      "Yes    1869\n",
      "Name: count, dtype: int64\n",
      "\n",
      "Churn Distribution (%):\n",
      "Churn\n",
      "No     73.463013\n",
      "Yes    26.536987\n",
      "Name: proportion, dtype: float64\n"
     ]
    }
   ],
   "source": [
    "# Value counts of the target column\n",
    "print(\"\\nChurn Value Counts:\")\n",
    "print(customer['Churn'].value_counts())\n",
    "\n",
    "# Percentage distribution\n",
    "print(\"\\nChurn Distribution (%):\")\n",
    "print(customer['Churn'].value_counts(normalize=True) * 100)\n"
   ]
  },
  {
   "cell_type": "code",
   "execution_count": 12,
   "id": "cd030714",
   "metadata": {},
   "outputs": [
    {
     "name": "stdout",
     "output_type": "stream",
     "text": [
      "Training Set Shape: (5625, 30)\n",
      "Test Set Shape: (1407, 30)\n"
     ]
    }
   ],
   "source": [
    "# 2. Preprocessing\n",
    "# ● Convert Churn to binary: Yes → 1, No → 0\n",
    "# ● Handle missing or blank values in TotalCharges\n",
    "# ● Encode categorical columns using Label Encoding or One-Hot Encoding\n",
    "# ● Normalize or scale MonthlyCharges and TotalCharges if needed\n",
    "# ● Split the data into train and test sets (80:20 or 70:30)\n",
    "\n",
    "\n",
    "# Step 1: Drop customerID column (not useful for prediction)\n",
    "customer.drop(\"customerID\", axis=1, inplace=True)\n",
    "\n",
    "# Step 2: Convert 'TotalCharges' to numeric, setting errors='coerce' to handle blanks\n",
    "customer['TotalCharges'] = pd.to_numeric(customer['TotalCharges'], errors='coerce')\n",
    "\n",
    "# Step 3: Drop rows with missing values (due to TotalCharges conversion)\n",
    "customer.dropna(inplace=True)\n",
    "\n",
    "# Step 4: Convert 'Churn' column to binary (Yes → 1, No → 0)\n",
    "customer['Churn'] = customer['Churn'].map({'Yes': 1, 'No': 0})\n",
    "\n",
    "# Step 5: Identify binary and multi-class categorical columns\n",
    "cat_cols = customer.select_dtypes(include='object').columns\n",
    "binary_cols = [col for col in cat_cols if customer[col].nunique() == 2]\n",
    "multi_class_cols = [col for col in cat_cols if customer[col].nunique() > 2]\n",
    "\n",
    "# Step 6: Label Encode binary categorical columns\n",
    "le = LabelEncoder()\n",
    "for col in binary_cols:\n",
    "    customer[col] = le.fit_transform(customer[col])\n",
    "\n",
    "# Step 7: One-Hot Encode multi-class columns\n",
    "customer = pd.get_dummies(customer, columns=multi_class_cols, drop_first=True)\n",
    "\n",
    "# Step 8: Normalize MonthlyCharges and TotalCharges\n",
    "scaler = StandardScaler()\n",
    "customer[['MonthlyCharges', 'TotalCharges']] = scaler.fit_transform(customer[['MonthlyCharges', 'TotalCharges']])\n",
    "\n",
    "# Step 9: Split into train and test sets (80:20)\n",
    "X = customer.drop('Churn', axis=1)\n",
    "y = customer['Churn']\n",
    "\n",
    "X_train, X_test, y_train, y_test = train_test_split(\n",
    "    X, y, test_size=0.2, random_state=42, stratify=y\n",
    ")\n",
    "\n",
    "print(\"Training Set Shape:\", X_train.shape)\n",
    "print(\"Test Set Shape:\", X_test.shape)\n"
   ]
  },
  {
   "cell_type": "code",
   "execution_count": 13,
   "id": "c728f058",
   "metadata": {},
   "outputs": [
    {
     "name": "stdout",
     "output_type": "stream",
     "text": [
      "Model Evaluation Metrics:\n",
      "Accuracy : 0.8045\n",
      "Precision: 0.6495\n",
      "Recall   : 0.5749\n",
      "F1 Score : 0.6099\n",
      "\n",
      "Confusion Matrix:\n",
      "[[917 116]\n",
      " [159 215]]\n"
     ]
    },
    {
     "data": {
      "text/plain": [
       "['logistic_model.pkl']"
      ]
     },
     "execution_count": 13,
     "metadata": {},
     "output_type": "execute_result"
    }
   ],
   "source": [
    "# 3. Model Training\n",
    "# ● Use Logistic Regression from scikit-learn\n",
    "# ● Train the model on the training set\n",
    "# ● Evaluate it on the test set using:\n",
    "# ○ Accuracy\n",
    "# ○ Precision, Recall, F1 Score\n",
    "# ○ Confusion Matrix\n",
    "\n",
    "from sklearn.metrics import accuracy_score, precision_score, recall_score, f1_score, confusion_matrix, classification_report\n",
    "\n",
    "# Step 1: Initialize the Logistic Regression model\n",
    "model = LogisticRegression(max_iter=1000)\n",
    "\n",
    "# Step 2: Train the model\n",
    "model.fit(X_train, y_train)\n",
    "\n",
    "# Step 3: Make predictions on the test set\n",
    "y_pred = model.predict(X_test)\n",
    "\n",
    "# Step 4: Evaluate the model\n",
    "accuracy = accuracy_score(y_test, y_pred)\n",
    "precision = precision_score(y_test, y_pred)\n",
    "recall = recall_score(y_test, y_pred)\n",
    "f1 = f1_score(y_test, y_pred)\n",
    "conf_matrix = confusion_matrix(y_test, y_pred)\n",
    "\n",
    "# Step 5: Print the results\n",
    "print(\"Model Evaluation Metrics:\")\n",
    "print(f\"Accuracy : {accuracy:.4f}\")\n",
    "print(f\"Precision: {precision:.4f}\")\n",
    "print(f\"Recall   : {recall:.4f}\")\n",
    "print(f\"F1 Score : {f1:.4f}\")\n",
    "print(\"\\nConfusion Matrix:\")\n",
    "print(conf_matrix)\n",
    "\n",
    "joblib.dump(model, \"logistic_model.pkl\")"
   ]
  },
  {
   "cell_type": "code",
   "execution_count": null,
   "id": "76e012c2",
   "metadata": {},
   "outputs": [],
   "source": []
  }
 ],
 "metadata": {
  "kernelspec": {
   "display_name": "Python 3",
   "language": "python",
   "name": "python3"
  },
  "language_info": {
   "codemirror_mode": {
    "name": "ipython",
    "version": 3
   },
   "file_extension": ".py",
   "mimetype": "text/x-python",
   "name": "python",
   "nbconvert_exporter": "python",
   "pygments_lexer": "ipython3",
   "version": "3.13.5"
  }
 },
 "nbformat": 4,
 "nbformat_minor": 5
}
